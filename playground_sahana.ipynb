{
 "cells": [
  {
   "cell_type": "markdown",
   "metadata": {},
   "source": [
    "Okay! Let's try the gym business. Cliff walking environment is perfect."
   ]
  },
  {
   "cell_type": "code",
   "execution_count": 1,
   "metadata": {},
   "outputs": [],
   "source": [
    "import gym\n",
    "import numpy as np\n",
    "import ToyEnv\n",
    "import psrl\n",
    "import PosteriorSamplerGMM"
   ]
  },
  {
   "cell_type": "code",
   "execution_count": null,
   "metadata": {},
   "outputs": [],
   "source": [
    "env = gym.make('CliffWalking-v0')"
   ]
  },
  {
   "cell_type": "code",
   "execution_count": null,
   "metadata": {},
   "outputs": [],
   "source": [
    "observation, info = env.reset()\n",
    "print(observation)\n",
    "print(info)\n",
    "np.unravel_index(observation, env.shape)"
   ]
  },
  {
   "cell_type": "code",
   "execution_count": null,
   "metadata": {},
   "outputs": [],
   "source": [
    "action = env.action_space.sample()\n",
    "print(action)\n",
    "observation, reward, terminated, truncated, info = env.step(3)\n",
    "print(observation)\n",
    "print(env.action_space.n)\n",
    "print(reward)\n",
    "print(env.P[observation][2])"
   ]
  },
  {
   "cell_type": "markdown",
   "metadata": {},
   "source": [
    "# Testing ToyEnv"
   ]
  },
  {
   "cell_type": "code",
   "execution_count": 2,
   "metadata": {},
   "outputs": [
    {
     "name": "stdout",
     "output_type": "stream",
     "text": [
      "1\n"
     ]
    }
   ],
   "source": [
    "new_env = ToyEnv.ToyEnv()\n",
    "init_state = new_env.reset()\n",
    "print(init_state)"
   ]
  },
  {
   "cell_type": "code",
   "execution_count": 3,
   "metadata": {},
   "outputs": [
    {
     "name": "stdout",
     "output_type": "stream",
     "text": [
      "3.360012099714048\n",
      "2\n"
     ]
    }
   ],
   "source": [
    "next_state, reward = new_env.step(1)\n",
    "print(reward)\n",
    "print(next_state)"
   ]
  },
  {
   "cell_type": "markdown",
   "metadata": {},
   "source": [
    "# Testing Gibbs sampler"
   ]
  },
  {
   "cell_type": "code",
   "execution_count": 4,
   "metadata": {},
   "outputs": [],
   "source": [
    "# Generate some data for state-action pair (0, 2)\n",
    "means = new_env._compute_means(0, 2)\n",
    "sigma = new_env.true_Sigma\n",
    "pis = new_env.true_pi\n",
    "data = np.zeros((100,))\n",
    "for i in range(100):\n",
    "    k = np.random.choice(len(pis), p=pis)\n",
    "    data[i] = np.random.normal(loc=means[k], scale=sigma[k])"
   ]
  },
  {
   "cell_type": "code",
   "execution_count": 5,
   "metadata": {},
   "outputs": [
    {
     "name": "stdout",
     "output_type": "stream",
     "text": [
      "[2 5 8]\n",
      "[0.1 0.1 0.1]\n",
      "[0.16666667 0.16666667 0.66666667]\n"
     ]
    }
   ],
   "source": [
    "print(means)\n",
    "print(sigma)\n",
    "print(pis)"
   ]
  },
  {
   "cell_type": "code",
   "execution_count": 15,
   "metadata": {},
   "outputs": [],
   "source": [
    "gibbs = PosteriorSamplerGMM.GibbsSamplerGMM(2000, 3)"
   ]
  },
  {
   "cell_type": "code",
   "execution_count": 16,
   "metadata": {},
   "outputs": [],
   "source": [
    "samples = gibbs.fit(data)"
   ]
  },
  {
   "cell_type": "code",
   "execution_count": 17,
   "metadata": {},
   "outputs": [
    {
     "name": "stdout",
     "output_type": "stream",
     "text": [
      "(array([8.00110863, 1.99071345, 4.83173804]), array([0.05335856, 0.14612603, 0.19519818]), array([0.66291525, 0.16964809, 0.16743666]))\n"
     ]
    }
   ],
   "source": [
    "print(samples[-1])"
   ]
  }
 ],
 "metadata": {
  "kernelspec": {
   "display_name": "tsmdp",
   "language": "python",
   "name": "python3"
  },
  "language_info": {
   "codemirror_mode": {
    "name": "ipython",
    "version": 3
   },
   "file_extension": ".py",
   "mimetype": "text/x-python",
   "name": "python",
   "nbconvert_exporter": "python",
   "pygments_lexer": "ipython3",
   "version": "3.9.19"
  }
 },
 "nbformat": 4,
 "nbformat_minor": 2
}
