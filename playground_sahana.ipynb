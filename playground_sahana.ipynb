{
 "cells": [
  {
   "cell_type": "markdown",
   "metadata": {},
   "source": [
    "Okay! Let's try the gym business. Cliff walking environment is perfect."
   ]
  },
  {
   "cell_type": "code",
   "execution_count": 1,
   "metadata": {},
   "outputs": [],
   "source": [
    "import gym\n",
    "import numpy as np\n",
    "import ToyEnv\n",
    "import psrl\n",
    "import PosteriorSamplerGMM"
   ]
  },
  {
   "cell_type": "code",
   "execution_count": 2,
   "metadata": {},
   "outputs": [],
   "source": [
    "env = gym.make('CliffWalking-v0')"
   ]
  },
  {
   "cell_type": "code",
   "execution_count": 3,
   "metadata": {},
   "outputs": [
    {
     "name": "stdout",
     "output_type": "stream",
     "text": [
      "36\n",
      "{'prob': 1}\n"
     ]
    },
    {
     "data": {
      "text/plain": [
       "(3, 0)"
      ]
     },
     "execution_count": 3,
     "metadata": {},
     "output_type": "execute_result"
    }
   ],
   "source": [
    "observation, info = env.reset()\n",
    "print(observation)\n",
    "print(info)\n",
    "np.unravel_index(observation, env.shape)"
   ]
  },
  {
   "cell_type": "code",
   "execution_count": 4,
   "metadata": {},
   "outputs": [
    {
     "name": "stdout",
     "output_type": "stream",
     "text": [
      "2\n",
      "36\n",
      "4\n",
      "-1\n",
      "[(1.0, 36, -1, False)]\n"
     ]
    },
    {
     "name": "stderr",
     "output_type": "stream",
     "text": [
      "/home/srayan/miniconda3/envs/tsmdp/lib/python3.9/site-packages/gym/utils/passive_env_checker.py:233: DeprecationWarning: `np.bool8` is a deprecated alias for `np.bool_`.  (Deprecated NumPy 1.24)\n",
      "  if not isinstance(terminated, (bool, np.bool8)):\n"
     ]
    }
   ],
   "source": [
    "action = env.action_space.sample()\n",
    "print(action)\n",
    "observation, reward, terminated, truncated, info = env.step(3)\n",
    "print(observation)\n",
    "print(env.action_space.n)\n",
    "print(reward)\n",
    "print(env.P[observation][2])"
   ]
  },
  {
   "cell_type": "markdown",
   "metadata": {},
   "source": [
    "# Testing ToyEnv"
   ]
  },
  {
   "cell_type": "code",
   "execution_count": 15,
   "metadata": {},
   "outputs": [
    {
     "name": "stdout",
     "output_type": "stream",
     "text": [
      "0\n"
     ]
    }
   ],
   "source": [
    "new_env = ToyEnv.ToyEnv(3, 3, 2)\n",
    "init_state = new_env.reset()\n",
    "print(init_state)"
   ]
  },
  {
   "cell_type": "code",
   "execution_count": 5,
   "metadata": {},
   "outputs": [
    {
     "name": "stdout",
     "output_type": "stream",
     "text": [
      "3.937980259205279\n",
      "0\n"
     ]
    }
   ],
   "source": [
    "next_state, reward = new_env.step(1)\n",
    "print(reward)\n",
    "print(next_state)"
   ]
  },
  {
   "cell_type": "markdown",
   "metadata": {},
   "source": [
    "# Testing Gibbs sampler"
   ]
  },
  {
   "cell_type": "code",
   "execution_count": 4,
   "metadata": {},
   "outputs": [],
   "source": [
    "# Generate some data for state-action pair (0, 2)\n",
    "means = new_env._compute_means(0, 2)\n",
    "sigma = new_env.true_Sigma\n",
    "pis = new_env.true_pi\n",
    "data = np.zeros((100,))\n",
    "for i in range(100):\n",
    "    k = np.random.choice(len(pis), p=pis)\n",
    "    data[i] = np.random.normal(loc=means[k], scale=sigma[k])"
   ]
  },
  {
   "cell_type": "code",
   "execution_count": 17,
   "metadata": {},
   "outputs": [
    {
     "name": "stdout",
     "output_type": "stream",
     "text": [
      "[2 5]\n",
      "[0.1 0.1]\n",
      "[0.2 0.8]\n"
     ]
    }
   ],
   "source": [
    "print(means)\n",
    "print(sigma)\n",
    "print(pis)"
   ]
  },
  {
   "cell_type": "code",
   "execution_count": 22,
   "metadata": {},
   "outputs": [],
   "source": [
    "gibbs = PosteriorSamplerGMM.GibbsSamplerGMM(1000, 2)"
   ]
  },
  {
   "cell_type": "code",
   "execution_count": 23,
   "metadata": {},
   "outputs": [],
   "source": [
    "samples = gibbs.fit(data)"
   ]
  },
  {
   "cell_type": "code",
   "execution_count": 25,
   "metadata": {},
   "outputs": [
    {
     "name": "stdout",
     "output_type": "stream",
     "text": [
      "(array([5.00015311, 1.9834373 ]), array([0.06634279, 0.17205711]), array([0.82502349, 0.17497651]))\n"
     ]
    }
   ],
   "source": [
    "print(samples[-500])"
   ]
  },
  {
   "cell_type": "markdown",
   "metadata": {},
   "source": [
    "# Testing PSRL"
   ]
  },
  {
   "cell_type": "code",
   "execution_count": 1,
   "metadata": {},
   "outputs": [],
   "source": [
    "import VariationalInference"
   ]
  },
  {
   "cell_type": "code",
   "execution_count": 16,
   "metadata": {},
   "outputs": [],
   "source": [
    "alg = psrl.PSRL(env=new_env, T = 1)\n"
   ]
  },
  {
   "cell_type": "code",
   "execution_count": 17,
   "metadata": {},
   "outputs": [
    {
     "name": "stdout",
     "output_type": "stream",
     "text": [
      "Iteration: 0\n",
      "Episode 0 Regret: 3.390119297318861\n"
     ]
    }
   ],
   "source": [
    "_, _, policy = alg.run()"
   ]
  },
  {
   "cell_type": "code",
   "execution_count": 18,
   "metadata": {},
   "outputs": [],
   "source": [
    "d = alg.to_dict()"
   ]
  },
  {
   "cell_type": "code",
   "execution_count": 19,
   "metadata": {},
   "outputs": [],
   "source": [
    "import pickle"
   ]
  },
  {
   "cell_type": "code",
   "execution_count": 23,
   "metadata": {},
   "outputs": [],
   "source": [
    "f = open(b\"test_pickle.obj\", \"wb\")\n",
    "pickle.dump(d, f)"
   ]
  },
  {
   "cell_type": "code",
   "execution_count": 24,
   "metadata": {},
   "outputs": [],
   "source": [
    "l = pickle.load(open(b\"test_pickle.obj\", \"rb\"))"
   ]
  },
  {
   "cell_type": "code",
   "execution_count": 25,
   "metadata": {},
   "outputs": [
    {
     "name": "stdout",
     "output_type": "stream",
     "text": [
      "{'H': 100, 'T': 1, 'policy': array([[2, 0, 2, 0, 2, 0, 2, 0, 2, 0, 2, 0, 2, 0, 2, 0, 2, 0, 2, 0, 2, 0,\n",
      "        2, 0, 2, 0, 2, 0, 2, 0, 2, 0, 2, 0, 2, 0, 2, 0, 2, 0, 2, 0, 2, 0,\n",
      "        2, 0, 2, 0, 2, 0, 2, 0, 2, 0, 2, 0, 2, 0, 2, 0, 2, 0, 2, 0, 2, 0,\n",
      "        2, 0, 2, 0, 2, 0, 2, 0, 2, 0, 2, 0, 2, 0, 2, 0, 2, 0, 2, 0, 2, 0,\n",
      "        2, 0, 2, 0, 2, 0, 2, 0, 2, 0, 2, 0],\n",
      "       [1, 0, 1, 0, 1, 0, 1, 0, 1, 0, 1, 0, 1, 0, 1, 0, 1, 0, 1, 0, 1, 0,\n",
      "        1, 0, 1, 0, 1, 0, 1, 0, 1, 0, 1, 0, 1, 0, 1, 0, 1, 0, 1, 0, 1, 0,\n",
      "        1, 0, 1, 0, 1, 0, 1, 0, 1, 0, 1, 0, 1, 0, 1, 0, 1, 0, 1, 0, 1, 0,\n",
      "        1, 0, 1, 0, 1, 0, 1, 0, 1, 0, 1, 0, 1, 0, 1, 0, 1, 0, 1, 0, 1, 0,\n",
      "        1, 0, 1, 0, 1, 0, 1, 0, 1, 0, 1, 0],\n",
      "       [2, 0, 2, 0, 2, 0, 2, 0, 2, 0, 2, 0, 2, 0, 2, 0, 2, 0, 2, 0, 2, 0,\n",
      "        2, 0, 2, 0, 2, 0, 2, 0, 2, 0, 2, 0, 2, 0, 2, 0, 2, 0, 2, 0, 2, 0,\n",
      "        2, 0, 2, 0, 2, 0, 2, 0, 2, 0, 2, 0, 2, 0, 2, 0, 2, 0, 2, 0, 2, 0,\n",
      "        2, 0, 2, 0, 2, 0, 2, 0, 2, 0, 2, 0, 2, 0, 2, 0, 2, 0, 2, 0, 2, 0,\n",
      "        2, 0, 2, 0, 2, 0, 2, 0, 2, 0, 2, 0]]), 'V': array([[2.10754034, 0.        , 2.10754034, 0.        , 2.10754034,\n",
      "        0.        , 2.10754034, 0.        , 2.10754034, 0.        ,\n",
      "        2.10754034, 0.        , 2.10754034, 0.        , 2.10754034,\n",
      "        0.        , 2.10754034, 0.        , 2.10754034, 0.        ,\n",
      "        2.10754034, 0.        , 2.10754034, 0.        , 2.10754034,\n",
      "        0.        , 2.10754034, 0.        , 2.10754034, 0.        ,\n",
      "        2.10754034, 0.        , 2.10754034, 0.        , 2.10754034,\n",
      "        0.        , 2.10754034, 0.        , 2.10754034, 0.        ,\n",
      "        2.10754034, 0.        , 2.10754034, 0.        , 2.10754034,\n",
      "        0.        , 2.10754034, 0.        , 2.10754034, 0.        ,\n",
      "        2.10754034, 0.        , 2.10754034, 0.        , 2.10754034,\n",
      "        0.        , 2.10754034, 0.        , 2.10754034, 0.        ,\n",
      "        2.10754034, 0.        , 2.10754034, 0.        , 2.10754034,\n",
      "        0.        , 2.10754034, 0.        , 2.10754034, 0.        ,\n",
      "        2.10754034, 0.        , 2.10754034, 0.        , 2.10754034,\n",
      "        0.        , 2.10754034, 0.        , 2.10754034, 0.        ,\n",
      "        2.10754034, 0.        , 2.10754034, 0.        , 2.10754034,\n",
      "        0.        , 2.10754034, 0.        , 2.10754034, 0.        ,\n",
      "        2.10754034, 0.        , 2.10754034, 0.        , 2.10754034,\n",
      "        0.        , 2.10754034, 0.        , 3.95231389, 2.10754034],\n",
      "       [0.31328546, 0.        , 0.31328546, 0.        , 0.31328546,\n",
      "        0.        , 0.31328546, 0.        , 0.31328546, 0.        ,\n",
      "        0.31328546, 0.        , 0.31328546, 0.        , 0.31328546,\n",
      "        0.        , 0.31328546, 0.        , 0.31328546, 0.        ,\n",
      "        0.31328546, 0.        , 0.31328546, 0.        , 0.31328546,\n",
      "        0.        , 0.31328546, 0.        , 0.31328546, 0.        ,\n",
      "        0.31328546, 0.        , 0.31328546, 0.        , 0.31328546,\n",
      "        0.        , 0.31328546, 0.        , 0.31328546, 0.        ,\n",
      "        0.31328546, 0.        , 0.31328546, 0.        , 0.31328546,\n",
      "        0.        , 0.31328546, 0.        , 0.31328546, 0.        ,\n",
      "        0.31328546, 0.        , 0.31328546, 0.        , 0.31328546,\n",
      "        0.        , 0.31328546, 0.        , 0.31328546, 0.        ,\n",
      "        0.31328546, 0.        , 0.31328546, 0.        , 0.31328546,\n",
      "        0.        , 0.31328546, 0.        , 0.31328546, 0.        ,\n",
      "        0.31328546, 0.        , 0.31328546, 0.        , 0.31328546,\n",
      "        0.        , 0.31328546, 0.        , 0.31328546, 0.        ,\n",
      "        0.31328546, 0.        , 0.31328546, 0.        , 0.31328546,\n",
      "        0.        , 0.31328546, 0.        , 0.31328546, 0.        ,\n",
      "        0.31328546, 0.        , 0.31328546, 0.        , 0.31328546,\n",
      "        0.        , 0.31328546, 0.        , 1.95869737, 0.31328546],\n",
      "       [2.01243265, 0.        , 2.01243265, 0.        , 2.01243265,\n",
      "        0.        , 2.01243265, 0.        , 2.01243265, 0.        ,\n",
      "        2.01243265, 0.        , 2.01243265, 0.        , 2.01243265,\n",
      "        0.        , 2.01243265, 0.        , 2.01243265, 0.        ,\n",
      "        2.01243265, 0.        , 2.01243265, 0.        , 2.01243265,\n",
      "        0.        , 2.01243265, 0.        , 2.01243265, 0.        ,\n",
      "        2.01243265, 0.        , 2.01243265, 0.        , 2.01243265,\n",
      "        0.        , 2.01243265, 0.        , 2.01243265, 0.        ,\n",
      "        2.01243265, 0.        , 2.01243265, 0.        , 2.01243265,\n",
      "        0.        , 2.01243265, 0.        , 2.01243265, 0.        ,\n",
      "        2.01243265, 0.        , 2.01243265, 0.        , 2.01243265,\n",
      "        0.        , 2.01243265, 0.        , 2.01243265, 0.        ,\n",
      "        2.01243265, 0.        , 2.01243265, 0.        , 2.01243265,\n",
      "        0.        , 2.01243265, 0.        , 2.01243265, 0.        ,\n",
      "        2.01243265, 0.        , 2.01243265, 0.        , 2.01243265,\n",
      "        0.        , 2.01243265, 0.        , 2.01243265, 0.        ,\n",
      "        2.01243265, 0.        , 2.01243265, 0.        , 2.01243265,\n",
      "        0.        , 2.01243265, 0.        , 2.01243265, 0.        ,\n",
      "        2.01243265, 0.        , 2.01243265, 0.        , 2.01243265,\n",
      "        0.        , 2.01243265, 0.        , 3.84663868, 2.01243265]]), 'Q': array([[[-0.04464029,  0.        , -0.04464029,  0.        ,\n",
      "         -0.04464029,  0.        , -0.04464029,  0.        ,\n",
      "         -0.04464029,  0.        , -0.04464029,  0.        ,\n",
      "         -0.04464029,  0.        , -0.04464029,  0.        ,\n",
      "         -0.04464029,  0.        , -0.04464029,  0.        ,\n",
      "         -0.04464029,  0.        , -0.04464029,  0.        ,\n",
      "         -0.04464029,  0.        , -0.04464029,  0.        ,\n",
      "         -0.04464029,  0.        , -0.04464029,  0.        ,\n",
      "         -0.04464029,  0.        , -0.04464029,  0.        ,\n",
      "         -0.04464029,  0.        , -0.04464029,  0.        ,\n",
      "         -0.04464029,  0.        , -0.04464029,  0.        ,\n",
      "         -0.04464029,  0.        , -0.04464029,  0.        ,\n",
      "         -0.04464029,  0.        , -0.04464029,  0.        ,\n",
      "         -0.04464029,  0.        , -0.04464029,  0.        ,\n",
      "         -0.04464029,  0.        , -0.04464029,  0.        ,\n",
      "         -0.04464029,  0.        , -0.04464029,  0.        ,\n",
      "         -0.04464029,  0.        , -0.04464029,  0.        ,\n",
      "         -0.04464029,  0.        , -0.04464029,  0.        ,\n",
      "         -0.04464029,  0.        , -0.04464029,  0.        ,\n",
      "         -0.04464029,  0.        , -0.04464029,  0.        ,\n",
      "         -0.04464029,  0.        , -0.04464029,  0.        ,\n",
      "         -0.04464029,  0.        , -0.04464029,  0.        ,\n",
      "         -0.04464029,  0.        , -0.04464029,  0.        ,\n",
      "         -0.04464029,  0.        , -0.04464029,  0.        ,\n",
      "         -0.04464029,  0.        ,  1.45424757, -0.04464029],\n",
      "        [ 0.07008573,  0.        ,  0.07008573,  0.        ,\n",
      "          0.07008573,  0.        ,  0.07008573,  0.        ,\n",
      "          0.07008573,  0.        ,  0.07008573,  0.        ,\n",
      "          0.07008573,  0.        ,  0.07008573,  0.        ,\n",
      "          0.07008573,  0.        ,  0.07008573,  0.        ,\n",
      "          0.07008573,  0.        ,  0.07008573,  0.        ,\n",
      "          0.07008573,  0.        ,  0.07008573,  0.        ,\n",
      "          0.07008573,  0.        ,  0.07008573,  0.        ,\n",
      "          0.07008573,  0.        ,  0.07008573,  0.        ,\n",
      "          0.07008573,  0.        ,  0.07008573,  0.        ,\n",
      "          0.07008573,  0.        ,  0.07008573,  0.        ,\n",
      "          0.07008573,  0.        ,  0.07008573,  0.        ,\n",
      "          0.07008573,  0.        ,  0.07008573,  0.        ,\n",
      "          0.07008573,  0.        ,  0.07008573,  0.        ,\n",
      "          0.07008573,  0.        ,  0.07008573,  0.        ,\n",
      "          0.07008573,  0.        ,  0.07008573,  0.        ,\n",
      "          0.07008573,  0.        ,  0.07008573,  0.        ,\n",
      "          0.07008573,  0.        ,  0.07008573,  0.        ,\n",
      "          0.07008573,  0.        ,  0.07008573,  0.        ,\n",
      "          0.07008573,  0.        ,  0.07008573,  0.        ,\n",
      "          0.07008573,  0.        ,  0.07008573,  0.        ,\n",
      "          0.07008573,  0.        ,  0.07008573,  0.        ,\n",
      "          0.07008573,  0.        ,  0.07008573,  0.        ,\n",
      "          0.07008573,  0.        ,  0.07008573,  0.        ,\n",
      "          0.07008573,  0.        ,  1.3484769 ,  0.07008573],\n",
      "        [ 2.10754034,  0.        ,  2.10754034,  0.        ,\n",
      "          2.10754034,  0.        ,  2.10754034,  0.        ,\n",
      "          2.10754034,  0.        ,  2.10754034,  0.        ,\n",
      "          2.10754034,  0.        ,  2.10754034,  0.        ,\n",
      "          2.10754034,  0.        ,  2.10754034,  0.        ,\n",
      "          2.10754034,  0.        ,  2.10754034,  0.        ,\n",
      "          2.10754034,  0.        ,  2.10754034,  0.        ,\n",
      "          2.10754034,  0.        ,  2.10754034,  0.        ,\n",
      "          2.10754034,  0.        ,  2.10754034,  0.        ,\n",
      "          2.10754034,  0.        ,  2.10754034,  0.        ,\n",
      "          2.10754034,  0.        ,  2.10754034,  0.        ,\n",
      "          2.10754034,  0.        ,  2.10754034,  0.        ,\n",
      "          2.10754034,  0.        ,  2.10754034,  0.        ,\n",
      "          2.10754034,  0.        ,  2.10754034,  0.        ,\n",
      "          2.10754034,  0.        ,  2.10754034,  0.        ,\n",
      "          2.10754034,  0.        ,  2.10754034,  0.        ,\n",
      "          2.10754034,  0.        ,  2.10754034,  0.        ,\n",
      "          2.10754034,  0.        ,  2.10754034,  0.        ,\n",
      "          2.10754034,  0.        ,  2.10754034,  0.        ,\n",
      "          2.10754034,  0.        ,  2.10754034,  0.        ,\n",
      "          2.10754034,  0.        ,  2.10754034,  0.        ,\n",
      "          2.10754034,  0.        ,  2.10754034,  0.        ,\n",
      "          2.10754034,  0.        ,  2.10754034,  0.        ,\n",
      "          2.10754034,  0.        ,  2.10754034,  0.        ,\n",
      "          2.10754034,  0.        ,  3.95231389,  2.10754034]],\n",
      "\n",
      "       [[-1.4900002 ,  0.        , -1.4900002 ,  0.        ,\n",
      "         -1.4900002 ,  0.        , -1.4900002 ,  0.        ,\n",
      "         -1.4900002 ,  0.        , -1.4900002 ,  0.        ,\n",
      "         -1.4900002 ,  0.        , -1.4900002 ,  0.        ,\n",
      "         -1.4900002 ,  0.        , -1.4900002 ,  0.        ,\n",
      "         -1.4900002 ,  0.        , -1.4900002 ,  0.        ,\n",
      "         -1.4900002 ,  0.        , -1.4900002 ,  0.        ,\n",
      "         -1.4900002 ,  0.        , -1.4900002 ,  0.        ,\n",
      "         -1.4900002 ,  0.        , -1.4900002 ,  0.        ,\n",
      "         -1.4900002 ,  0.        , -1.4900002 ,  0.        ,\n",
      "         -1.4900002 ,  0.        , -1.4900002 ,  0.        ,\n",
      "         -1.4900002 ,  0.        , -1.4900002 ,  0.        ,\n",
      "         -1.4900002 ,  0.        , -1.4900002 ,  0.        ,\n",
      "         -1.4900002 ,  0.        , -1.4900002 ,  0.        ,\n",
      "         -1.4900002 ,  0.        , -1.4900002 ,  0.        ,\n",
      "         -1.4900002 ,  0.        , -1.4900002 ,  0.        ,\n",
      "         -1.4900002 ,  0.        , -1.4900002 ,  0.        ,\n",
      "         -1.4900002 ,  0.        , -1.4900002 ,  0.        ,\n",
      "         -1.4900002 ,  0.        , -1.4900002 ,  0.        ,\n",
      "         -1.4900002 ,  0.        , -1.4900002 ,  0.        ,\n",
      "         -1.4900002 ,  0.        , -1.4900002 ,  0.        ,\n",
      "         -1.4900002 ,  0.        , -1.4900002 ,  0.        ,\n",
      "         -1.4900002 ,  0.        , -1.4900002 ,  0.        ,\n",
      "         -1.4900002 ,  0.        , -1.4900002 ,  0.        ,\n",
      "         -1.4900002 ,  0.        , -0.41097069, -1.4900002 ],\n",
      "        [ 0.31328546,  0.        ,  0.31328546,  0.        ,\n",
      "          0.31328546,  0.        ,  0.31328546,  0.        ,\n",
      "          0.31328546,  0.        ,  0.31328546,  0.        ,\n",
      "          0.31328546,  0.        ,  0.31328546,  0.        ,\n",
      "          0.31328546,  0.        ,  0.31328546,  0.        ,\n",
      "          0.31328546,  0.        ,  0.31328546,  0.        ,\n",
      "          0.31328546,  0.        ,  0.31328546,  0.        ,\n",
      "          0.31328546,  0.        ,  0.31328546,  0.        ,\n",
      "          0.31328546,  0.        ,  0.31328546,  0.        ,\n",
      "          0.31328546,  0.        ,  0.31328546,  0.        ,\n",
      "          0.31328546,  0.        ,  0.31328546,  0.        ,\n",
      "          0.31328546,  0.        ,  0.31328546,  0.        ,\n",
      "          0.31328546,  0.        ,  0.31328546,  0.        ,\n",
      "          0.31328546,  0.        ,  0.31328546,  0.        ,\n",
      "          0.31328546,  0.        ,  0.31328546,  0.        ,\n",
      "          0.31328546,  0.        ,  0.31328546,  0.        ,\n",
      "          0.31328546,  0.        ,  0.31328546,  0.        ,\n",
      "          0.31328546,  0.        ,  0.31328546,  0.        ,\n",
      "          0.31328546,  0.        ,  0.31328546,  0.        ,\n",
      "          0.31328546,  0.        ,  0.31328546,  0.        ,\n",
      "          0.31328546,  0.        ,  0.31328546,  0.        ,\n",
      "          0.31328546,  0.        ,  0.31328546,  0.        ,\n",
      "          0.31328546,  0.        ,  0.31328546,  0.        ,\n",
      "          0.31328546,  0.        ,  0.31328546,  0.        ,\n",
      "          0.31328546,  0.        ,  1.95869737,  0.31328546],\n",
      "        [ 0.13685311,  0.        ,  0.13685311,  0.        ,\n",
      "          0.13685311,  0.        ,  0.13685311,  0.        ,\n",
      "          0.13685311,  0.        ,  0.13685311,  0.        ,\n",
      "          0.13685311,  0.        ,  0.13685311,  0.        ,\n",
      "          0.13685311,  0.        ,  0.13685311,  0.        ,\n",
      "          0.13685311,  0.        ,  0.13685311,  0.        ,\n",
      "          0.13685311,  0.        ,  0.13685311,  0.        ,\n",
      "          0.13685311,  0.        ,  0.13685311,  0.        ,\n",
      "          0.13685311,  0.        ,  0.13685311,  0.        ,\n",
      "          0.13685311,  0.        ,  0.13685311,  0.        ,\n",
      "          0.13685311,  0.        ,  0.13685311,  0.        ,\n",
      "          0.13685311,  0.        ,  0.13685311,  0.        ,\n",
      "          0.13685311,  0.        ,  0.13685311,  0.        ,\n",
      "          0.13685311,  0.        ,  0.13685311,  0.        ,\n",
      "          0.13685311,  0.        ,  0.13685311,  0.        ,\n",
      "          0.13685311,  0.        ,  0.13685311,  0.        ,\n",
      "          0.13685311,  0.        ,  0.13685311,  0.        ,\n",
      "          0.13685311,  0.        ,  0.13685311,  0.        ,\n",
      "          0.13685311,  0.        ,  0.13685311,  0.        ,\n",
      "          0.13685311,  0.        ,  0.13685311,  0.        ,\n",
      "          0.13685311,  0.        ,  0.13685311,  0.        ,\n",
      "          0.13685311,  0.        ,  0.13685311,  0.        ,\n",
      "          0.13685311,  0.        ,  0.13685311,  0.        ,\n",
      "          0.13685311,  0.        ,  0.13685311,  0.        ,\n",
      "          0.13685311,  0.        ,  1.78226501,  0.13685311]],\n",
      "\n",
      "       [[-0.76290178,  0.        , -0.76290178,  0.        ,\n",
      "         -0.76290178,  0.        , -0.76290178,  0.        ,\n",
      "         -0.76290178,  0.        , -0.76290178,  0.        ,\n",
      "         -0.76290178,  0.        , -0.76290178,  0.        ,\n",
      "         -0.76290178,  0.        , -0.76290178,  0.        ,\n",
      "         -0.76290178,  0.        , -0.76290178,  0.        ,\n",
      "         -0.76290178,  0.        , -0.76290178,  0.        ,\n",
      "         -0.76290178,  0.        , -0.76290178,  0.        ,\n",
      "         -0.76290178,  0.        , -0.76290178,  0.        ,\n",
      "         -0.76290178,  0.        , -0.76290178,  0.        ,\n",
      "         -0.76290178,  0.        , -0.76290178,  0.        ,\n",
      "         -0.76290178,  0.        , -0.76290178,  0.        ,\n",
      "         -0.76290178,  0.        , -0.76290178,  0.        ,\n",
      "         -0.76290178,  0.        , -0.76290178,  0.        ,\n",
      "         -0.76290178,  0.        , -0.76290178,  0.        ,\n",
      "         -0.76290178,  0.        , -0.76290178,  0.        ,\n",
      "         -0.76290178,  0.        , -0.76290178,  0.        ,\n",
      "         -0.76290178,  0.        , -0.76290178,  0.        ,\n",
      "         -0.76290178,  0.        , -0.76290178,  0.        ,\n",
      "         -0.76290178,  0.        , -0.76290178,  0.        ,\n",
      "         -0.76290178,  0.        , -0.76290178,  0.        ,\n",
      "         -0.76290178,  0.        , -0.76290178,  0.        ,\n",
      "         -0.76290178,  0.        , -0.76290178,  0.        ,\n",
      "         -0.76290178,  0.        , -0.76290178,  0.        ,\n",
      "         -0.76290178,  0.        ,  1.07130426, -0.76290178],\n",
      "        [-0.26015612,  0.        , -0.26015612,  0.        ,\n",
      "         -0.26015612,  0.        , -0.26015612,  0.        ,\n",
      "         -0.26015612,  0.        , -0.26015612,  0.        ,\n",
      "         -0.26015612,  0.        , -0.26015612,  0.        ,\n",
      "         -0.26015612,  0.        , -0.26015612,  0.        ,\n",
      "         -0.26015612,  0.        , -0.26015612,  0.        ,\n",
      "         -0.26015612,  0.        , -0.26015612,  0.        ,\n",
      "         -0.26015612,  0.        , -0.26015612,  0.        ,\n",
      "         -0.26015612,  0.        , -0.26015612,  0.        ,\n",
      "         -0.26015612,  0.        , -0.26015612,  0.        ,\n",
      "         -0.26015612,  0.        , -0.26015612,  0.        ,\n",
      "         -0.26015612,  0.        , -0.26015612,  0.        ,\n",
      "         -0.26015612,  0.        , -0.26015612,  0.        ,\n",
      "         -0.26015612,  0.        , -0.26015612,  0.        ,\n",
      "         -0.26015612,  0.        , -0.26015612,  0.        ,\n",
      "         -0.26015612,  0.        , -0.26015612,  0.        ,\n",
      "         -0.26015612,  0.        , -0.26015612,  0.        ,\n",
      "         -0.26015612,  0.        , -0.26015612,  0.        ,\n",
      "         -0.26015612,  0.        , -0.26015612,  0.        ,\n",
      "         -0.26015612,  0.        , -0.26015612,  0.        ,\n",
      "         -0.26015612,  0.        , -0.26015612,  0.        ,\n",
      "         -0.26015612,  0.        , -0.26015612,  0.        ,\n",
      "         -0.26015612,  0.        , -0.26015612,  0.        ,\n",
      "         -0.26015612,  0.        , -0.26015612,  0.        ,\n",
      "         -0.26015612,  0.        ,  1.57404992, -0.26015612],\n",
      "        [ 2.01243265,  0.        ,  2.01243265,  0.        ,\n",
      "          2.01243265,  0.        ,  2.01243265,  0.        ,\n",
      "          2.01243265,  0.        ,  2.01243265,  0.        ,\n",
      "          2.01243265,  0.        ,  2.01243265,  0.        ,\n",
      "          2.01243265,  0.        ,  2.01243265,  0.        ,\n",
      "          2.01243265,  0.        ,  2.01243265,  0.        ,\n",
      "          2.01243265,  0.        ,  2.01243265,  0.        ,\n",
      "          2.01243265,  0.        ,  2.01243265,  0.        ,\n",
      "          2.01243265,  0.        ,  2.01243265,  0.        ,\n",
      "          2.01243265,  0.        ,  2.01243265,  0.        ,\n",
      "          2.01243265,  0.        ,  2.01243265,  0.        ,\n",
      "          2.01243265,  0.        ,  2.01243265,  0.        ,\n",
      "          2.01243265,  0.        ,  2.01243265,  0.        ,\n",
      "          2.01243265,  0.        ,  2.01243265,  0.        ,\n",
      "          2.01243265,  0.        ,  2.01243265,  0.        ,\n",
      "          2.01243265,  0.        ,  2.01243265,  0.        ,\n",
      "          2.01243265,  0.        ,  2.01243265,  0.        ,\n",
      "          2.01243265,  0.        ,  2.01243265,  0.        ,\n",
      "          2.01243265,  0.        ,  2.01243265,  0.        ,\n",
      "          2.01243265,  0.        ,  2.01243265,  0.        ,\n",
      "          2.01243265,  0.        ,  2.01243265,  0.        ,\n",
      "          2.01243265,  0.        ,  2.01243265,  0.        ,\n",
      "          2.01243265,  0.        ,  2.01243265,  0.        ,\n",
      "          2.01243265,  0.        ,  2.01243265,  0.        ,\n",
      "          2.01243265,  0.        ,  3.84663868,  2.01243265]]]), 'episode_regret': [3.390119297318861], 'time_taken': 0.34261512756347656}\n"
     ]
    }
   ],
   "source": [
    "print(l)"
   ]
  },
  {
   "cell_type": "code",
   "execution_count": 16,
   "metadata": {},
   "outputs": [
    {
     "ename": "ModuleNotFoundError",
     "evalue": "No module named 'dill'",
     "output_type": "error",
     "traceback": [
      "\u001b[0;31m---------------------------------------------------------------------------\u001b[0m",
      "\u001b[0;31mModuleNotFoundError\u001b[0m                       Traceback (most recent call last)",
      "Cell \u001b[0;32mIn[16], line 1\u001b[0m\n\u001b[0;32m----> 1\u001b[0m \u001b[38;5;28;01mimport\u001b[39;00m \u001b[38;5;21;01mdill\u001b[39;00m\n",
      "\u001b[0;31mModuleNotFoundError\u001b[0m: No module named 'dill'"
     ]
    }
   ],
   "source": [
    "import dill"
   ]
  },
  {
   "cell_type": "code",
   "execution_count": 4,
   "metadata": {},
   "outputs": [],
   "source": [
    "import json\n",
    "sample_dict = {\"Gibbs\": {\"state\": {2: 4.5, 3: 7}}, \"HMC\": {\"state\": {2: 4.5, 3: 7}}}\n",
    "with open(\"time.json\", \"w\") as f:\n",
    "    json.dump(sample_dict, f)"
   ]
  },
  {
   "cell_type": "code",
   "execution_count": 6,
   "metadata": {},
   "outputs": [],
   "source": [
    "sample_dict[\"Gibbs\"][\"state\"][2] = 5"
   ]
  },
  {
   "cell_type": "code",
   "execution_count": 7,
   "metadata": {},
   "outputs": [
    {
     "name": "stdout",
     "output_type": "stream",
     "text": [
      "{'Gibbs': {'state': {2: 5, 3: 7}}, 'HMC': {'state': {2: 4.5, 3: 7}}}\n"
     ]
    }
   ],
   "source": [
    "print(sample_dict)"
   ]
  },
  {
   "cell_type": "code",
   "execution_count": 2,
   "metadata": {},
   "outputs": [],
   "source": [
    "import VariationalInference"
   ]
  },
  {
   "cell_type": "code",
   "execution_count": 7,
   "metadata": {},
   "outputs": [
    {
     "name": "stdout",
     "output_type": "stream",
     "text": [
      "1\n"
     ]
    }
   ],
   "source": [
    "new_env = ToyEnv.ToyEnv(3, 3, 2)\n",
    "init_state = new_env.reset()\n",
    "print(init_state)"
   ]
  },
  {
   "cell_type": "code",
   "execution_count": 8,
   "metadata": {},
   "outputs": [
    {
     "name": "stdout",
     "output_type": "stream",
     "text": [
      "Iteration: 0\n"
     ]
    },
    {
     "ename": "AttributeError",
     "evalue": "'NoneType' object has no attribute 'shape'",
     "output_type": "error",
     "traceback": [
      "\u001b[0;31m---------------------------------------------------------------------------\u001b[0m",
      "\u001b[0;31mAttributeError\u001b[0m                            Traceback (most recent call last)",
      "Cell \u001b[0;32mIn[8], line 2\u001b[0m\n\u001b[1;32m      1\u001b[0m alg \u001b[38;5;241m=\u001b[39m psrl\u001b[38;5;241m.\u001b[39mPSRL(env\u001b[38;5;241m=\u001b[39mnew_env,sampler\u001b[38;5;241m=\u001b[39mVariationalInference\u001b[38;5;241m.\u001b[39mVIpymcGMM)\n\u001b[0;32m----> 2\u001b[0m _, _, policy \u001b[38;5;241m=\u001b[39m \u001b[43malg\u001b[49m\u001b[38;5;241;43m.\u001b[39;49m\u001b[43mrun\u001b[49m\u001b[43m(\u001b[49m\u001b[43m)\u001b[49m\n",
      "File \u001b[0;32m~/608_Project/psrl.py:95\u001b[0m, in \u001b[0;36mPSRL.run\u001b[0;34m(self)\u001b[0m\n\u001b[1;32m     93\u001b[0m \u001b[38;5;28mprint\u001b[39m(\u001b[38;5;124mf\u001b[39m\u001b[38;5;124m\"\u001b[39m\u001b[38;5;124mIteration: \u001b[39m\u001b[38;5;132;01m{\u001b[39;00mt\u001b[38;5;132;01m}\u001b[39;00m\u001b[38;5;124m\"\u001b[39m)\n\u001b[1;32m     94\u001b[0m transitions \u001b[38;5;241m=\u001b[39m \u001b[38;5;28mself\u001b[39m\u001b[38;5;241m.\u001b[39msample_transition_dynamics() \u001b[38;5;66;03m# first step\u001b[39;00m\n\u001b[0;32m---> 95\u001b[0m reward_samples \u001b[38;5;241m=\u001b[39m \u001b[38;5;28;43mself\u001b[39;49m\u001b[38;5;241;43m.\u001b[39;49m\u001b[43msample_reward_posteriors\u001b[49m\u001b[43m(\u001b[49m\u001b[43mt\u001b[49m\u001b[43m)\u001b[49m\n\u001b[1;32m     96\u001b[0m expected_rewards \u001b[38;5;241m=\u001b[39m np\u001b[38;5;241m.\u001b[39mzeros((\u001b[38;5;28mself\u001b[39m\u001b[38;5;241m.\u001b[39menv\u001b[38;5;241m.\u001b[39mnS, \u001b[38;5;28mself\u001b[39m\u001b[38;5;241m.\u001b[39menv\u001b[38;5;241m.\u001b[39mnA))\n\u001b[1;32m     97\u001b[0m \u001b[38;5;28;01mfor\u001b[39;00m s \u001b[38;5;129;01min\u001b[39;00m \u001b[38;5;28mrange\u001b[39m(\u001b[38;5;28mself\u001b[39m\u001b[38;5;241m.\u001b[39menv\u001b[38;5;241m.\u001b[39mnS):\n",
      "File \u001b[0;32m~/608_Project/psrl.py:87\u001b[0m, in \u001b[0;36mPSRL.sample_reward_posteriors\u001b[0;34m(self, t)\u001b[0m\n\u001b[1;32m     85\u001b[0m             relevant_hist \u001b[38;5;241m=\u001b[39m history[(history[:, \u001b[38;5;241m0\u001b[39m] \u001b[38;5;241m==\u001b[39m s) \u001b[38;5;241m&\u001b[39m (history[:, \u001b[38;5;241m1\u001b[39m] \u001b[38;5;241m==\u001b[39m a), \u001b[38;5;241m2\u001b[39m]\n\u001b[1;32m     86\u001b[0m         sampler \u001b[38;5;241m=\u001b[39m \u001b[38;5;28mself\u001b[39m\u001b[38;5;241m.\u001b[39msampler(n_samples \u001b[38;5;241m=\u001b[39m \u001b[38;5;28mself\u001b[39m\u001b[38;5;241m.\u001b[39mn_samples, n_components \u001b[38;5;241m=\u001b[39m \u001b[38;5;28mself\u001b[39m\u001b[38;5;241m.\u001b[39menv\u001b[38;5;241m.\u001b[39mtrue_k) \u001b[38;5;66;03m#, alpha = self.alpha0[s, a], mu0 = self.mu0[s, a], sigma0 = self.sigma0[s, a], alphaG = self.alphaG[s, a], betaG = self.betaG[s, a])\u001b[39;00m\n\u001b[0;32m---> 87\u001b[0m         \u001b[43msampler\u001b[49m\u001b[38;5;241;43m.\u001b[39;49m\u001b[43mfit\u001b[49m\u001b[43m(\u001b[49m\u001b[43mrelevant_hist\u001b[49m\u001b[43m)\u001b[49m\n\u001b[1;32m     88\u001b[0m         reward_post_params[s, a] \u001b[38;5;241m=\u001b[39m sampler\u001b[38;5;241m.\u001b[39msample_posterior()\n\u001b[1;32m     89\u001b[0m \u001b[38;5;28;01mreturn\u001b[39;00m reward_post_params\n",
      "File \u001b[0;32m~/608_Project/VariationalInference.py:243\u001b[0m, in \u001b[0;36mVIpymcGMM.fit\u001b[0;34m(self, X)\u001b[0m\n\u001b[1;32m    242\u001b[0m \u001b[38;5;28;01mdef\u001b[39;00m \u001b[38;5;21mfit\u001b[39m(\u001b[38;5;28mself\u001b[39m, X):\n\u001b[0;32m--> 243\u001b[0m     \u001b[38;5;28mprint\u001b[39m(\u001b[43mX\u001b[49m\u001b[38;5;241;43m.\u001b[39;49m\u001b[43mshape\u001b[49m)\n\u001b[1;32m    244\u001b[0m     \u001b[38;5;28;01mwith\u001b[39;00m \u001b[38;5;28mself\u001b[39m\u001b[38;5;241m.\u001b[39msampler:\n\u001b[1;32m    245\u001b[0m         obs \u001b[38;5;241m=\u001b[39m pm\u001b[38;5;241m.\u001b[39mNormalMixture(\u001b[38;5;124m\"\u001b[39m\u001b[38;5;124mx\u001b[39m\u001b[38;5;124m\"\u001b[39m,  w\u001b[38;5;241m=\u001b[39m\u001b[38;5;28mself\u001b[39m\u001b[38;5;241m.\u001b[39mweights,\n\u001b[1;32m    246\u001b[0m                                mu\u001b[38;5;241m=\u001b[39m\u001b[38;5;28mself\u001b[39m\u001b[38;5;241m.\u001b[39mmu, sigma\u001b[38;5;241m=\u001b[39m\u001b[38;5;28mself\u001b[39m\u001b[38;5;241m.\u001b[39msigma, observed\u001b[38;5;241m=\u001b[39mX)\n",
      "\u001b[0;31mAttributeError\u001b[0m: 'NoneType' object has no attribute 'shape'"
     ]
    }
   ],
   "source": [
    "alg = psrl.PSRL(env=new_env,sampler=VariationalInference.VIpymcGMM)\n",
    "_, _, policy = alg.run()"
   ]
  },
  {
   "cell_type": "code",
   "execution_count": 8,
   "metadata": {},
   "outputs": [],
   "source": [
    "import pymc as pm\n",
    "n_components = 3"
   ]
  },
  {
   "cell_type": "code",
   "execution_count": 10,
   "metadata": {},
   "outputs": [],
   "source": [
    "x_1 = np.random.normal(loc=0, scale=1, size=100)\n",
    "z = np.random.choice(n_components, size=100)\n",
    "x = np.zeros(100)\n",
    "x[z == 0] = np.random.normal(loc=0, scale=1, size=(z == 0).sum())\n",
    "x[z == 1] = np.random.normal(loc=5, scale=1, size=(z == 1).sum())\n",
    "x[z == 2] = np.random.normal(loc=10, scale=1, size=(z == 2).sum())"
   ]
  },
  {
   "cell_type": "code",
   "execution_count": 12,
   "metadata": {},
   "outputs": [],
   "source": [
    "mu0 = 0\n",
    "sigma0 = 1\n",
    "alphaG = 1\n",
    "betaG = 0.5"
   ]
  },
  {
   "cell_type": "code",
   "execution_count": 14,
   "metadata": {},
   "outputs": [],
   "source": [
    "with pm.Model(coords={\"cluster\" : range(n_components)}) as some_model:\n",
    "    mu = pm.Normal(\"mu\",\n",
    "                            mu = mu0, \n",
    "                            sigma = sigma0,\n",
    "                            dims=\"cluster\"\n",
    "                            )\n",
    "    sigma = pm.InverseGamma(\"sigma\",\n",
    "                                 beta = betaG,\n",
    "                                 alpha = alphaG,\n",
    "                                 dims = \"cluster\")\n",
    "    weights = pm.Dirichlet(\"w\", np.ones(n_components), dims=\"cluster\")\n",
    "    obs = pm.NormalMixture(\"obs\", w=weights, mu=mu, sigma=sigma, observed=x)"
   ]
  },
  {
   "cell_type": "code",
   "execution_count": 19,
   "metadata": {},
   "outputs": [
    {
     "data": {
      "text/html": [
       "<pre style=\"white-space:pre;overflow-x:auto;line-height:normal;font-family:Menlo,'DejaVu Sans Mono',consolas,'Courier New',monospace\">/home/srayan/miniconda3/envs/608proj/lib/python3.12/site-packages/rich/live.py:231: UserWarning: install \n",
       "\"ipywidgets\" for Jupyter support\n",
       "  warnings.warn('install \"ipywidgets\" for Jupyter support')\n",
       "</pre>\n"
      ],
      "text/plain": [
       "/home/srayan/miniconda3/envs/608proj/lib/python3.12/site-packages/rich/live.py:231: UserWarning: install \n",
       "\"ipywidgets\" for Jupyter support\n",
       "  warnings.warn('install \"ipywidgets\" for Jupyter support')\n"
      ]
     },
     "metadata": {},
     "output_type": "display_data"
    },
    {
     "data": {
      "text/html": [
       "<pre style=\"white-space:pre;overflow-x:auto;line-height:normal;font-family:Menlo,'DejaVu Sans Mono',consolas,'Courier New',monospace\"></pre>\n"
      ],
      "text/plain": []
     },
     "metadata": {},
     "output_type": "display_data"
    },
    {
     "data": {
      "text/html": [
       "<pre style=\"white-space:pre;overflow-x:auto;line-height:normal;font-family:Menlo,'DejaVu Sans Mono',consolas,'Courier New',monospace\">\n",
       "</pre>\n"
      ],
      "text/plain": [
       "\n"
      ]
     },
     "metadata": {},
     "output_type": "display_data"
    },
    {
     "name": "stderr",
     "output_type": "stream",
     "text": [
      "Finished [100%]: Average Loss = 291.95\n"
     ]
    }
   ],
   "source": [
    "with some_model:\n",
    "    mean_field = pm.fit(obj_optimizer=pm.adagrad_window(learning_rate=0.01), progressbar=False)"
   ]
  },
  {
   "cell_type": "code",
   "execution_count": 16,
   "metadata": {},
   "outputs": [],
   "source": [
    "sanokes = mean_field.sample(1000)"
   ]
  },
  {
   "cell_type": "code",
   "execution_count": 17,
   "metadata": {},
   "outputs": [
    {
     "data": {
      "text/html": [
       "<div><svg style=\"position: absolute; width: 0; height: 0; overflow: hidden\">\n",
       "<defs>\n",
       "<symbol id=\"icon-database\" viewBox=\"0 0 32 32\">\n",
       "<path d=\"M16 0c-8.837 0-16 2.239-16 5v4c0 2.761 7.163 5 16 5s16-2.239 16-5v-4c0-2.761-7.163-5-16-5z\"></path>\n",
       "<path d=\"M16 17c-8.837 0-16-2.239-16-5v6c0 2.761 7.163 5 16 5s16-2.239 16-5v-6c0 2.761-7.163 5-16 5z\"></path>\n",
       "<path d=\"M16 26c-8.837 0-16-2.239-16-5v6c0 2.761 7.163 5 16 5s16-2.239 16-5v-6c0 2.761-7.163 5-16 5z\"></path>\n",
       "</symbol>\n",
       "<symbol id=\"icon-file-text2\" viewBox=\"0 0 32 32\">\n",
       "<path d=\"M28.681 7.159c-0.694-0.947-1.662-2.053-2.724-3.116s-2.169-2.030-3.116-2.724c-1.612-1.182-2.393-1.319-2.841-1.319h-15.5c-1.378 0-2.5 1.121-2.5 2.5v27c0 1.378 1.122 2.5 2.5 2.5h23c1.378 0 2.5-1.122 2.5-2.5v-19.5c0-0.448-0.137-1.23-1.319-2.841zM24.543 5.457c0.959 0.959 1.712 1.825 2.268 2.543h-4.811v-4.811c0.718 0.556 1.584 1.309 2.543 2.268zM28 29.5c0 0.271-0.229 0.5-0.5 0.5h-23c-0.271 0-0.5-0.229-0.5-0.5v-27c0-0.271 0.229-0.5 0.5-0.5 0 0 15.499-0 15.5 0v7c0 0.552 0.448 1 1 1h7v19.5z\"></path>\n",
       "<path d=\"M23 26h-14c-0.552 0-1-0.448-1-1s0.448-1 1-1h14c0.552 0 1 0.448 1 1s-0.448 1-1 1z\"></path>\n",
       "<path d=\"M23 22h-14c-0.552 0-1-0.448-1-1s0.448-1 1-1h14c0.552 0 1 0.448 1 1s-0.448 1-1 1z\"></path>\n",
       "<path d=\"M23 18h-14c-0.552 0-1-0.448-1-1s0.448-1 1-1h14c0.552 0 1 0.448 1 1s-0.448 1-1 1z\"></path>\n",
       "</symbol>\n",
       "</defs>\n",
       "</svg>\n",
       "<style>/* CSS stylesheet for displaying xarray objects in jupyterlab.\n",
       " *\n",
       " */\n",
       "\n",
       ":root {\n",
       "  --xr-font-color0: var(--jp-content-font-color0, rgba(0, 0, 0, 1));\n",
       "  --xr-font-color2: var(--jp-content-font-color2, rgba(0, 0, 0, 0.54));\n",
       "  --xr-font-color3: var(--jp-content-font-color3, rgba(0, 0, 0, 0.38));\n",
       "  --xr-border-color: var(--jp-border-color2, #e0e0e0);\n",
       "  --xr-disabled-color: var(--jp-layout-color3, #bdbdbd);\n",
       "  --xr-background-color: var(--jp-layout-color0, white);\n",
       "  --xr-background-color-row-even: var(--jp-layout-color1, white);\n",
       "  --xr-background-color-row-odd: var(--jp-layout-color2, #eeeeee);\n",
       "}\n",
       "\n",
       "html[theme=dark],\n",
       "body[data-theme=dark],\n",
       "body.vscode-dark {\n",
       "  --xr-font-color0: rgba(255, 255, 255, 1);\n",
       "  --xr-font-color2: rgba(255, 255, 255, 0.54);\n",
       "  --xr-font-color3: rgba(255, 255, 255, 0.38);\n",
       "  --xr-border-color: #1F1F1F;\n",
       "  --xr-disabled-color: #515151;\n",
       "  --xr-background-color: #111111;\n",
       "  --xr-background-color-row-even: #111111;\n",
       "  --xr-background-color-row-odd: #313131;\n",
       "}\n",
       "\n",
       ".xr-wrap {\n",
       "  display: block !important;\n",
       "  min-width: 300px;\n",
       "  max-width: 700px;\n",
       "}\n",
       "\n",
       ".xr-text-repr-fallback {\n",
       "  /* fallback to plain text repr when CSS is not injected (untrusted notebook) */\n",
       "  display: none;\n",
       "}\n",
       "\n",
       ".xr-header {\n",
       "  padding-top: 6px;\n",
       "  padding-bottom: 6px;\n",
       "  margin-bottom: 4px;\n",
       "  border-bottom: solid 1px var(--xr-border-color);\n",
       "}\n",
       "\n",
       ".xr-header > div,\n",
       ".xr-header > ul {\n",
       "  display: inline;\n",
       "  margin-top: 0;\n",
       "  margin-bottom: 0;\n",
       "}\n",
       "\n",
       ".xr-obj-type,\n",
       ".xr-array-name {\n",
       "  margin-left: 2px;\n",
       "  margin-right: 10px;\n",
       "}\n",
       "\n",
       ".xr-obj-type {\n",
       "  color: var(--xr-font-color2);\n",
       "}\n",
       "\n",
       ".xr-sections {\n",
       "  padding-left: 0 !important;\n",
       "  display: grid;\n",
       "  grid-template-columns: 150px auto auto 1fr 20px 20px;\n",
       "}\n",
       "\n",
       ".xr-section-item {\n",
       "  display: contents;\n",
       "}\n",
       "\n",
       ".xr-section-item input {\n",
       "  display: none;\n",
       "}\n",
       "\n",
       ".xr-section-item input + label {\n",
       "  color: var(--xr-disabled-color);\n",
       "}\n",
       "\n",
       ".xr-section-item input:enabled + label {\n",
       "  cursor: pointer;\n",
       "  color: var(--xr-font-color2);\n",
       "}\n",
       "\n",
       ".xr-section-item input:enabled + label:hover {\n",
       "  color: var(--xr-font-color0);\n",
       "}\n",
       "\n",
       ".xr-section-summary {\n",
       "  grid-column: 1;\n",
       "  color: var(--xr-font-color2);\n",
       "  font-weight: 500;\n",
       "}\n",
       "\n",
       ".xr-section-summary > span {\n",
       "  display: inline-block;\n",
       "  padding-left: 0.5em;\n",
       "}\n",
       "\n",
       ".xr-section-summary-in:disabled + label {\n",
       "  color: var(--xr-font-color2);\n",
       "}\n",
       "\n",
       ".xr-section-summary-in + label:before {\n",
       "  display: inline-block;\n",
       "  content: '►';\n",
       "  font-size: 11px;\n",
       "  width: 15px;\n",
       "  text-align: center;\n",
       "}\n",
       "\n",
       ".xr-section-summary-in:disabled + label:before {\n",
       "  color: var(--xr-disabled-color);\n",
       "}\n",
       "\n",
       ".xr-section-summary-in:checked + label:before {\n",
       "  content: '▼';\n",
       "}\n",
       "\n",
       ".xr-section-summary-in:checked + label > span {\n",
       "  display: none;\n",
       "}\n",
       "\n",
       ".xr-section-summary,\n",
       ".xr-section-inline-details {\n",
       "  padding-top: 4px;\n",
       "  padding-bottom: 4px;\n",
       "}\n",
       "\n",
       ".xr-section-inline-details {\n",
       "  grid-column: 2 / -1;\n",
       "}\n",
       "\n",
       ".xr-section-details {\n",
       "  display: none;\n",
       "  grid-column: 1 / -1;\n",
       "  margin-bottom: 5px;\n",
       "}\n",
       "\n",
       ".xr-section-summary-in:checked ~ .xr-section-details {\n",
       "  display: contents;\n",
       "}\n",
       "\n",
       ".xr-array-wrap {\n",
       "  grid-column: 1 / -1;\n",
       "  display: grid;\n",
       "  grid-template-columns: 20px auto;\n",
       "}\n",
       "\n",
       ".xr-array-wrap > label {\n",
       "  grid-column: 1;\n",
       "  vertical-align: top;\n",
       "}\n",
       "\n",
       ".xr-preview {\n",
       "  color: var(--xr-font-color3);\n",
       "}\n",
       "\n",
       ".xr-array-preview,\n",
       ".xr-array-data {\n",
       "  padding: 0 5px !important;\n",
       "  grid-column: 2;\n",
       "}\n",
       "\n",
       ".xr-array-data,\n",
       ".xr-array-in:checked ~ .xr-array-preview {\n",
       "  display: none;\n",
       "}\n",
       "\n",
       ".xr-array-in:checked ~ .xr-array-data,\n",
       ".xr-array-preview {\n",
       "  display: inline-block;\n",
       "}\n",
       "\n",
       ".xr-dim-list {\n",
       "  display: inline-block !important;\n",
       "  list-style: none;\n",
       "  padding: 0 !important;\n",
       "  margin: 0;\n",
       "}\n",
       "\n",
       ".xr-dim-list li {\n",
       "  display: inline-block;\n",
       "  padding: 0;\n",
       "  margin: 0;\n",
       "}\n",
       "\n",
       ".xr-dim-list:before {\n",
       "  content: '(';\n",
       "}\n",
       "\n",
       ".xr-dim-list:after {\n",
       "  content: ')';\n",
       "}\n",
       "\n",
       ".xr-dim-list li:not(:last-child):after {\n",
       "  content: ',';\n",
       "  padding-right: 5px;\n",
       "}\n",
       "\n",
       ".xr-has-index {\n",
       "  font-weight: bold;\n",
       "}\n",
       "\n",
       ".xr-var-list,\n",
       ".xr-var-item {\n",
       "  display: contents;\n",
       "}\n",
       "\n",
       ".xr-var-item > div,\n",
       ".xr-var-item label,\n",
       ".xr-var-item > .xr-var-name span {\n",
       "  background-color: var(--xr-background-color-row-even);\n",
       "  margin-bottom: 0;\n",
       "}\n",
       "\n",
       ".xr-var-item > .xr-var-name:hover span {\n",
       "  padding-right: 5px;\n",
       "}\n",
       "\n",
       ".xr-var-list > li:nth-child(odd) > div,\n",
       ".xr-var-list > li:nth-child(odd) > label,\n",
       ".xr-var-list > li:nth-child(odd) > .xr-var-name span {\n",
       "  background-color: var(--xr-background-color-row-odd);\n",
       "}\n",
       "\n",
       ".xr-var-name {\n",
       "  grid-column: 1;\n",
       "}\n",
       "\n",
       ".xr-var-dims {\n",
       "  grid-column: 2;\n",
       "}\n",
       "\n",
       ".xr-var-dtype {\n",
       "  grid-column: 3;\n",
       "  text-align: right;\n",
       "  color: var(--xr-font-color2);\n",
       "}\n",
       "\n",
       ".xr-var-preview {\n",
       "  grid-column: 4;\n",
       "}\n",
       "\n",
       ".xr-index-preview {\n",
       "  grid-column: 2 / 5;\n",
       "  color: var(--xr-font-color2);\n",
       "}\n",
       "\n",
       ".xr-var-name,\n",
       ".xr-var-dims,\n",
       ".xr-var-dtype,\n",
       ".xr-preview,\n",
       ".xr-attrs dt {\n",
       "  white-space: nowrap;\n",
       "  overflow: hidden;\n",
       "  text-overflow: ellipsis;\n",
       "  padding-right: 10px;\n",
       "}\n",
       "\n",
       ".xr-var-name:hover,\n",
       ".xr-var-dims:hover,\n",
       ".xr-var-dtype:hover,\n",
       ".xr-attrs dt:hover {\n",
       "  overflow: visible;\n",
       "  width: auto;\n",
       "  z-index: 1;\n",
       "}\n",
       "\n",
       ".xr-var-attrs,\n",
       ".xr-var-data,\n",
       ".xr-index-data {\n",
       "  display: none;\n",
       "  background-color: var(--xr-background-color) !important;\n",
       "  padding-bottom: 5px !important;\n",
       "}\n",
       "\n",
       ".xr-var-attrs-in:checked ~ .xr-var-attrs,\n",
       ".xr-var-data-in:checked ~ .xr-var-data,\n",
       ".xr-index-data-in:checked ~ .xr-index-data {\n",
       "  display: block;\n",
       "}\n",
       "\n",
       ".xr-var-data > table {\n",
       "  float: right;\n",
       "}\n",
       "\n",
       ".xr-var-name span,\n",
       ".xr-var-data,\n",
       ".xr-index-name div,\n",
       ".xr-index-data,\n",
       ".xr-attrs {\n",
       "  padding-left: 25px !important;\n",
       "}\n",
       "\n",
       ".xr-attrs,\n",
       ".xr-var-attrs,\n",
       ".xr-var-data,\n",
       ".xr-index-data {\n",
       "  grid-column: 1 / -1;\n",
       "}\n",
       "\n",
       "dl.xr-attrs {\n",
       "  padding: 0;\n",
       "  margin: 0;\n",
       "  display: grid;\n",
       "  grid-template-columns: 125px auto;\n",
       "}\n",
       "\n",
       ".xr-attrs dt,\n",
       ".xr-attrs dd {\n",
       "  padding: 0;\n",
       "  margin: 0;\n",
       "  float: left;\n",
       "  padding-right: 10px;\n",
       "  width: auto;\n",
       "}\n",
       "\n",
       ".xr-attrs dt {\n",
       "  font-weight: normal;\n",
       "  grid-column: 1;\n",
       "}\n",
       "\n",
       ".xr-attrs dt:hover span {\n",
       "  display: inline-block;\n",
       "  background: var(--xr-background-color);\n",
       "  padding-right: 10px;\n",
       "}\n",
       "\n",
       ".xr-attrs dd {\n",
       "  grid-column: 2;\n",
       "  white-space: pre-wrap;\n",
       "  word-break: break-all;\n",
       "}\n",
       "\n",
       ".xr-icon-database,\n",
       ".xr-icon-file-text2,\n",
       ".xr-no-icon {\n",
       "  display: inline-block;\n",
       "  vertical-align: middle;\n",
       "  width: 1em;\n",
       "  height: 1.5em !important;\n",
       "  stroke-width: 0;\n",
       "  stroke: currentColor;\n",
       "  fill: currentColor;\n",
       "}\n",
       "</style><pre class='xr-text-repr-fallback'>&lt;xarray.DataArray &#x27;mu&#x27; (chain: 1, draw: 1000, cluster: 3)&gt; Size: 24kB\n",
       "array([[[ 5.25501492, -0.30676995,  0.29734657],\n",
       "        [ 4.60955132, -0.66414261,  0.16030605],\n",
       "        [ 5.46152895,  0.02220216, -0.08072968],\n",
       "        ...,\n",
       "        [ 4.21003559, -0.16430032,  0.3279469 ],\n",
       "        [ 5.45115943, -0.46497134,  0.37075777],\n",
       "        [ 4.43654111, -0.32639393, -0.26803871]]])\n",
       "Coordinates:\n",
       "  * chain    (chain) int64 8B 0\n",
       "  * draw     (draw) int64 8kB 0 1 2 3 4 5 6 7 ... 993 994 995 996 997 998 999\n",
       "  * cluster  (cluster) int64 24B 0 1 2</pre><div class='xr-wrap' style='display:none'><div class='xr-header'><div class='xr-obj-type'>xarray.DataArray</div><div class='xr-array-name'>'mu'</div><ul class='xr-dim-list'><li><span class='xr-has-index'>chain</span>: 1</li><li><span class='xr-has-index'>draw</span>: 1000</li><li><span class='xr-has-index'>cluster</span>: 3</li></ul></div><ul class='xr-sections'><li class='xr-section-item'><div class='xr-array-wrap'><input id='section-cff1ebd1-b07d-4a76-9d0c-1fa194f8f799' class='xr-array-in' type='checkbox' checked><label for='section-cff1ebd1-b07d-4a76-9d0c-1fa194f8f799' title='Show/hide data repr'><svg class='icon xr-icon-database'><use xlink:href='#icon-database'></use></svg></label><div class='xr-array-preview xr-preview'><span>5.255 -0.3068 0.2973 4.61 -0.6641 ... 0.3708 4.437 -0.3264 -0.268</span></div><div class='xr-array-data'><pre>array([[[ 5.25501492, -0.30676995,  0.29734657],\n",
       "        [ 4.60955132, -0.66414261,  0.16030605],\n",
       "        [ 5.46152895,  0.02220216, -0.08072968],\n",
       "        ...,\n",
       "        [ 4.21003559, -0.16430032,  0.3279469 ],\n",
       "        [ 5.45115943, -0.46497134,  0.37075777],\n",
       "        [ 4.43654111, -0.32639393, -0.26803871]]])</pre></div></div></li><li class='xr-section-item'><input id='section-8654c7ca-cc91-4953-a55b-86834cf41273' class='xr-section-summary-in' type='checkbox'  checked><label for='section-8654c7ca-cc91-4953-a55b-86834cf41273' class='xr-section-summary' >Coordinates: <span>(3)</span></label><div class='xr-section-inline-details'></div><div class='xr-section-details'><ul class='xr-var-list'><li class='xr-var-item'><div class='xr-var-name'><span class='xr-has-index'>chain</span></div><div class='xr-var-dims'>(chain)</div><div class='xr-var-dtype'>int64</div><div class='xr-var-preview xr-preview'>0</div><input id='attrs-9cc689a7-14df-4cc8-a24b-89cbc3300fab' class='xr-var-attrs-in' type='checkbox' disabled><label for='attrs-9cc689a7-14df-4cc8-a24b-89cbc3300fab' title='Show/Hide attributes'><svg class='icon xr-icon-file-text2'><use xlink:href='#icon-file-text2'></use></svg></label><input id='data-5e56ca3b-0ef8-4bc8-9b31-e1cf83b1d633' class='xr-var-data-in' type='checkbox'><label for='data-5e56ca3b-0ef8-4bc8-9b31-e1cf83b1d633' title='Show/Hide data repr'><svg class='icon xr-icon-database'><use xlink:href='#icon-database'></use></svg></label><div class='xr-var-attrs'><dl class='xr-attrs'></dl></div><div class='xr-var-data'><pre>array([0])</pre></div></li><li class='xr-var-item'><div class='xr-var-name'><span class='xr-has-index'>draw</span></div><div class='xr-var-dims'>(draw)</div><div class='xr-var-dtype'>int64</div><div class='xr-var-preview xr-preview'>0 1 2 3 4 5 ... 995 996 997 998 999</div><input id='attrs-82c32a6e-cfd6-49b3-ba06-8a2ee012016f' class='xr-var-attrs-in' type='checkbox' disabled><label for='attrs-82c32a6e-cfd6-49b3-ba06-8a2ee012016f' title='Show/Hide attributes'><svg class='icon xr-icon-file-text2'><use xlink:href='#icon-file-text2'></use></svg></label><input id='data-4482d89c-4b39-49df-951b-41d8d7035baf' class='xr-var-data-in' type='checkbox'><label for='data-4482d89c-4b39-49df-951b-41d8d7035baf' title='Show/Hide data repr'><svg class='icon xr-icon-database'><use xlink:href='#icon-database'></use></svg></label><div class='xr-var-attrs'><dl class='xr-attrs'></dl></div><div class='xr-var-data'><pre>array([  0,   1,   2, ..., 997, 998, 999])</pre></div></li><li class='xr-var-item'><div class='xr-var-name'><span class='xr-has-index'>cluster</span></div><div class='xr-var-dims'>(cluster)</div><div class='xr-var-dtype'>int64</div><div class='xr-var-preview xr-preview'>0 1 2</div><input id='attrs-3a0b1fe5-9964-4441-90ed-ad0c9f275b93' class='xr-var-attrs-in' type='checkbox' disabled><label for='attrs-3a0b1fe5-9964-4441-90ed-ad0c9f275b93' title='Show/Hide attributes'><svg class='icon xr-icon-file-text2'><use xlink:href='#icon-file-text2'></use></svg></label><input id='data-aedc57c7-5590-4202-a5b5-377de22cdd3b' class='xr-var-data-in' type='checkbox'><label for='data-aedc57c7-5590-4202-a5b5-377de22cdd3b' title='Show/Hide data repr'><svg class='icon xr-icon-database'><use xlink:href='#icon-database'></use></svg></label><div class='xr-var-attrs'><dl class='xr-attrs'></dl></div><div class='xr-var-data'><pre>array([0, 1, 2])</pre></div></li></ul></div></li><li class='xr-section-item'><input id='section-43258793-38bf-4b22-914b-55b0630ff302' class='xr-section-summary-in' type='checkbox'  ><label for='section-43258793-38bf-4b22-914b-55b0630ff302' class='xr-section-summary' >Indexes: <span>(3)</span></label><div class='xr-section-inline-details'></div><div class='xr-section-details'><ul class='xr-var-list'><li class='xr-var-item'><div class='xr-index-name'><div>chain</div></div><div class='xr-index-preview'>PandasIndex</div><div></div><input id='index-42122839-ea23-4ba0-abf7-db064ff11ebc' class='xr-index-data-in' type='checkbox'/><label for='index-42122839-ea23-4ba0-abf7-db064ff11ebc' title='Show/Hide index repr'><svg class='icon xr-icon-database'><use xlink:href='#icon-database'></use></svg></label><div class='xr-index-data'><pre>PandasIndex(Index([0], dtype=&#x27;int64&#x27;, name=&#x27;chain&#x27;))</pre></div></li><li class='xr-var-item'><div class='xr-index-name'><div>draw</div></div><div class='xr-index-preview'>PandasIndex</div><div></div><input id='index-80d2b49d-0a17-49a4-9944-6a165c0ac3db' class='xr-index-data-in' type='checkbox'/><label for='index-80d2b49d-0a17-49a4-9944-6a165c0ac3db' title='Show/Hide index repr'><svg class='icon xr-icon-database'><use xlink:href='#icon-database'></use></svg></label><div class='xr-index-data'><pre>PandasIndex(Index([  0,   1,   2,   3,   4,   5,   6,   7,   8,   9,\n",
       "       ...\n",
       "       990, 991, 992, 993, 994, 995, 996, 997, 998, 999],\n",
       "      dtype=&#x27;int64&#x27;, name=&#x27;draw&#x27;, length=1000))</pre></div></li><li class='xr-var-item'><div class='xr-index-name'><div>cluster</div></div><div class='xr-index-preview'>PandasIndex</div><div></div><input id='index-4a104540-c32a-4d1b-b77c-20a3eb8cbe0c' class='xr-index-data-in' type='checkbox'/><label for='index-4a104540-c32a-4d1b-b77c-20a3eb8cbe0c' title='Show/Hide index repr'><svg class='icon xr-icon-database'><use xlink:href='#icon-database'></use></svg></label><div class='xr-index-data'><pre>PandasIndex(Index([0, 1, 2], dtype=&#x27;int64&#x27;, name=&#x27;cluster&#x27;))</pre></div></li></ul></div></li><li class='xr-section-item'><input id='section-17ffe4d8-4650-46fd-a7cd-66b4bc702370' class='xr-section-summary-in' type='checkbox' disabled ><label for='section-17ffe4d8-4650-46fd-a7cd-66b4bc702370' class='xr-section-summary'  title='Expand/collapse section'>Attributes: <span>(0)</span></label><div class='xr-section-inline-details'></div><div class='xr-section-details'><dl class='xr-attrs'></dl></div></li></ul></div></div>"
      ],
      "text/plain": [
       "<xarray.DataArray 'mu' (chain: 1, draw: 1000, cluster: 3)> Size: 24kB\n",
       "array([[[ 5.25501492, -0.30676995,  0.29734657],\n",
       "        [ 4.60955132, -0.66414261,  0.16030605],\n",
       "        [ 5.46152895,  0.02220216, -0.08072968],\n",
       "        ...,\n",
       "        [ 4.21003559, -0.16430032,  0.3279469 ],\n",
       "        [ 5.45115943, -0.46497134,  0.37075777],\n",
       "        [ 4.43654111, -0.32639393, -0.26803871]]])\n",
       "Coordinates:\n",
       "  * chain    (chain) int64 8B 0\n",
       "  * draw     (draw) int64 8kB 0 1 2 3 4 5 6 7 ... 993 994 995 996 997 998 999\n",
       "  * cluster  (cluster) int64 24B 0 1 2"
      ]
     },
     "execution_count": 17,
     "metadata": {},
     "output_type": "execute_result"
    }
   ],
   "source": [
    "sanokes.posterior[\"mu\"]"
   ]
  },
  {
   "cell_type": "code",
   "execution_count": 2,
   "metadata": {},
   "outputs": [],
   "source": [
    "import numpy as np"
   ]
  },
  {
   "cell_type": "code",
   "execution_count": 8,
   "metadata": {},
   "outputs": [],
   "source": [
    "env = ToyEnv.ToyEnv(3, 3, 2, seed = 3)"
   ]
  },
  {
   "cell_type": "code",
   "execution_count": 4,
   "metadata": {},
   "outputs": [
    {
     "name": "stdout",
     "output_type": "stream",
     "text": [
      "[0.2 0.8]\n"
     ]
    }
   ],
   "source": [
    "print(env.true_pi)"
   ]
  },
  {
   "cell_type": "code",
   "execution_count": 9,
   "metadata": {},
   "outputs": [
    {
     "data": {
      "text/plain": [
       "0"
      ]
     },
     "execution_count": 9,
     "metadata": {},
     "output_type": "execute_result"
    }
   ],
   "source": [
    "env.reset()"
   ]
  },
  {
   "cell_type": "code",
   "execution_count": 10,
   "metadata": {},
   "outputs": [],
   "source": [
    "stuff = env.to_dict()"
   ]
  },
  {
   "cell_type": "code",
   "execution_count": 26,
   "metadata": {},
   "outputs": [],
   "source": [
    "f = open(b\"test_pickle.obj\", \"wb\")\n",
    "pickle.dump(stuff, f)"
   ]
  },
  {
   "cell_type": "code",
   "execution_count": 27,
   "metadata": {},
   "outputs": [],
   "source": [
    "l = pickle.load(open(b\"test_pickle.obj\", \"rb\"))"
   ]
  }
 ],
 "metadata": {
  "kernelspec": {
   "display_name": "tsmdp",
   "language": "python",
   "name": "python3"
  },
  "language_info": {
   "codemirror_mode": {
    "name": "ipython",
    "version": 3
   },
   "file_extension": ".py",
   "mimetype": "text/x-python",
   "name": "python",
   "nbconvert_exporter": "python",
   "pygments_lexer": "ipython3",
   "version": "3.12.2"
  }
 },
 "nbformat": 4,
 "nbformat_minor": 2
}
